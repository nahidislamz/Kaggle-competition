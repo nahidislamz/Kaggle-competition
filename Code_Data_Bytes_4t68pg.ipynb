{
  "cells": [
    {
      "cell_type": "markdown",
      "metadata": {
        "id": "view-in-github",
        "colab_type": "text"
      },
      "source": [
        "<a href=\"https://colab.research.google.com/github/nahidislamz/Kaggle-competition/blob/main/Code_Data_Bytes_4t68pg.ipynb\" target=\"_parent\"><img src=\"https://colab.research.google.com/assets/colab-badge.svg\" alt=\"Open In Colab\"/></a>"
      ]
    },
    {
      "cell_type": "code",
      "execution_count": null,
      "metadata": {
        "id": "R0gudImWS__5"
      },
      "outputs": [],
      "source": [
        "!pip install opendatasets --quiet"
      ]
    },
    {
      "cell_type": "code",
      "source": [
        "!pip install --upgrade category_encoders"
      ],
      "metadata": {
        "id": "jqNxSmjByG_0"
      },
      "execution_count": null,
      "outputs": []
    },
    {
      "cell_type": "code",
      "execution_count": null,
      "metadata": {
        "colab": {
          "base_uri": "https://localhost:8080/"
        },
        "id": "3fXfqgcfmVIl",
        "outputId": "e2d5e0d6-f063-4ea3-9276-0b51a028715e"
      },
      "outputs": [
        {
          "output_type": "stream",
          "name": "stdout",
          "text": [
            "Skipping, found downloaded files in \"./robi-datathon-2-pre-assessment\" (use force=True to force download)\n"
          ]
        }
      ],
      "source": [
        "import opendatasets as od\n",
        "url = 'https://www.kaggle.com/competitions/robi-datathon-2-pre-assessment/data'\n",
        "od.download(url)"
      ]
    },
    {
      "cell_type": "code",
      "execution_count": null,
      "metadata": {
        "id": "7LI-BtqKU1bU",
        "colab": {
          "base_uri": "https://localhost:8080/"
        },
        "outputId": "e68ffbb0-c750-476e-dbed-376450b82566"
      },
      "outputs": [
        {
          "output_type": "stream",
          "name": "stderr",
          "text": [
            "/usr/local/lib/python3.7/dist-packages/statsmodels/tools/_testing.py:19: FutureWarning: pandas.util.testing is deprecated. Use the functions in the public API at pandas.testing instead.\n",
            "  import pandas.util.testing as tm\n"
          ]
        }
      ],
      "source": [
        "import pandas as pd\n",
        "import seaborn as sns\n",
        "import matplotlib.pyplot as plt\n",
        "import numpy as np\n",
        "from category_encoders import OneHotEncoder\n",
        "from sklearn.metrics import accuracy_score\n",
        "from sklearn.model_selection import train_test_split\n",
        "from sklearn.pipeline import Pipeline, make_pipeline\n",
        "from sklearn.linear_model import LogisticRegression\n",
        "from sklearn.metrics import accuracy_score\n",
        "from sklearn.tree import DecisionTreeClassifier, plot_tree"
      ]
    },
    {
      "cell_type": "code",
      "source": [
        "train = pd.read_csv('/content/robi-datathon-2-pre-assessment/train.csv')\n",
        "test = pd.read_csv('/content/robi-datathon-2-pre-assessment/test.csv')"
      ],
      "metadata": {
        "id": "lobOh8X9zBUo"
      },
      "execution_count": null,
      "outputs": []
    },
    {
      "cell_type": "code",
      "source": [
        "train.head()"
      ],
      "metadata": {
        "execution": {
          "iopub.status.busy": "2022-06-09T18:25:51.697768Z",
          "iopub.execute_input": "2022-06-09T18:25:51.698782Z",
          "iopub.status.idle": "2022-06-09T18:25:51.755530Z",
          "shell.execute_reply.started": "2022-06-09T18:25:51.698737Z",
          "shell.execute_reply": "2022-06-09T18:25:51.753891Z"
        },
        "trusted": true,
        "id": "yxyVrtsVuh_1",
        "colab": {
          "base_uri": "https://localhost:8080/",
          "height": 300
        },
        "outputId": "6e46bcf1-7df9-4ccb-842e-3ab2820d978b"
      },
      "execution_count": null,
      "outputs": [
        {
          "output_type": "execute_result",
          "data": {
            "text/plain": [
              "                                                  id gender s11 s12  s13 s16  \\\n",
              "0  b'gAAAAABinOicS09vrmgh0_JyEHihI13ptO0rCyHP7l76...      M   Y   N    1   D   \n",
              "1  b'gAAAAABinOiWGC1WhR6WYP0DA5ssGv9rIekrWUwCdJ8F...      M   Y   Y    1   D   \n",
              "2  b'gAAAAABinOibTcOBFIVeA4nVF3FuFz_QX3ZlPPFc21gS...      M   Y   Y    1   D   \n",
              "3  b'gAAAAABinOig-g3-Q1ggjlMhfUSdn21Aj5yVVeVvXbis...      F   Y   Y    1   D   \n",
              "4  b'gAAAAABinOiXdoaNUzihOSbyY1tjWtd5EgMaXkkvH6SV...      M   N   Y    1   B   \n",
              "\n",
              "  s17 s18  s48 s52  ...        n7        n8        n9       n10       n11 n12  \\\n",
              "0   D   B    0   1  ... -9.126056  1.732291  3.698504  4.804517  1.544484   0   \n",
              "1   D   B    1   1  ... -9.098287  1.505885  6.791357  6.110416  1.712354   0   \n",
              "2   D   B    0   1  ... -9.234894  1.503828  4.109685  3.953226  1.804260   0   \n",
              "3   D   B    0   1  ... -9.378025  1.485863  7.265876  4.559419  1.537645   0   \n",
              "4   D   D    1   l  ... -9.261962  1.619210  3.737647  4.052003  1.637831   0   \n",
              "\n",
              "   n13       n14 n15 label  \n",
              "0    0  0.631220   5     0  \n",
              "1    0  0.392746   3     1  \n",
              "2    0  0.222537   2     0  \n",
              "3    0  0.154409   4     0  \n",
              "4    1  0.737560   1     0  \n",
              "\n",
              "[5 rows x 36 columns]"
            ],
            "text/html": [
              "\n",
              "  <div id=\"df-7fac3d41-350a-4061-b18e-364c509065cb\">\n",
              "    <div class=\"colab-df-container\">\n",
              "      <div>\n",
              "<style scoped>\n",
              "    .dataframe tbody tr th:only-of-type {\n",
              "        vertical-align: middle;\n",
              "    }\n",
              "\n",
              "    .dataframe tbody tr th {\n",
              "        vertical-align: top;\n",
              "    }\n",
              "\n",
              "    .dataframe thead th {\n",
              "        text-align: right;\n",
              "    }\n",
              "</style>\n",
              "<table border=\"1\" class=\"dataframe\">\n",
              "  <thead>\n",
              "    <tr style=\"text-align: right;\">\n",
              "      <th></th>\n",
              "      <th>id</th>\n",
              "      <th>gender</th>\n",
              "      <th>s11</th>\n",
              "      <th>s12</th>\n",
              "      <th>s13</th>\n",
              "      <th>s16</th>\n",
              "      <th>s17</th>\n",
              "      <th>s18</th>\n",
              "      <th>s48</th>\n",
              "      <th>s52</th>\n",
              "      <th>...</th>\n",
              "      <th>n7</th>\n",
              "      <th>n8</th>\n",
              "      <th>n9</th>\n",
              "      <th>n10</th>\n",
              "      <th>n11</th>\n",
              "      <th>n12</th>\n",
              "      <th>n13</th>\n",
              "      <th>n14</th>\n",
              "      <th>n15</th>\n",
              "      <th>label</th>\n",
              "    </tr>\n",
              "  </thead>\n",
              "  <tbody>\n",
              "    <tr>\n",
              "      <th>0</th>\n",
              "      <td>b'gAAAAABinOicS09vrmgh0_JyEHihI13ptO0rCyHP7l76...</td>\n",
              "      <td>M</td>\n",
              "      <td>Y</td>\n",
              "      <td>N</td>\n",
              "      <td>1</td>\n",
              "      <td>D</td>\n",
              "      <td>D</td>\n",
              "      <td>B</td>\n",
              "      <td>0</td>\n",
              "      <td>1</td>\n",
              "      <td>...</td>\n",
              "      <td>-9.126056</td>\n",
              "      <td>1.732291</td>\n",
              "      <td>3.698504</td>\n",
              "      <td>4.804517</td>\n",
              "      <td>1.544484</td>\n",
              "      <td>0</td>\n",
              "      <td>0</td>\n",
              "      <td>0.631220</td>\n",
              "      <td>5</td>\n",
              "      <td>0</td>\n",
              "    </tr>\n",
              "    <tr>\n",
              "      <th>1</th>\n",
              "      <td>b'gAAAAABinOiWGC1WhR6WYP0DA5ssGv9rIekrWUwCdJ8F...</td>\n",
              "      <td>M</td>\n",
              "      <td>Y</td>\n",
              "      <td>Y</td>\n",
              "      <td>1</td>\n",
              "      <td>D</td>\n",
              "      <td>D</td>\n",
              "      <td>B</td>\n",
              "      <td>1</td>\n",
              "      <td>1</td>\n",
              "      <td>...</td>\n",
              "      <td>-9.098287</td>\n",
              "      <td>1.505885</td>\n",
              "      <td>6.791357</td>\n",
              "      <td>6.110416</td>\n",
              "      <td>1.712354</td>\n",
              "      <td>0</td>\n",
              "      <td>0</td>\n",
              "      <td>0.392746</td>\n",
              "      <td>3</td>\n",
              "      <td>1</td>\n",
              "    </tr>\n",
              "    <tr>\n",
              "      <th>2</th>\n",
              "      <td>b'gAAAAABinOibTcOBFIVeA4nVF3FuFz_QX3ZlPPFc21gS...</td>\n",
              "      <td>M</td>\n",
              "      <td>Y</td>\n",
              "      <td>Y</td>\n",
              "      <td>1</td>\n",
              "      <td>D</td>\n",
              "      <td>D</td>\n",
              "      <td>B</td>\n",
              "      <td>0</td>\n",
              "      <td>1</td>\n",
              "      <td>...</td>\n",
              "      <td>-9.234894</td>\n",
              "      <td>1.503828</td>\n",
              "      <td>4.109685</td>\n",
              "      <td>3.953226</td>\n",
              "      <td>1.804260</td>\n",
              "      <td>0</td>\n",
              "      <td>0</td>\n",
              "      <td>0.222537</td>\n",
              "      <td>2</td>\n",
              "      <td>0</td>\n",
              "    </tr>\n",
              "    <tr>\n",
              "      <th>3</th>\n",
              "      <td>b'gAAAAABinOig-g3-Q1ggjlMhfUSdn21Aj5yVVeVvXbis...</td>\n",
              "      <td>F</td>\n",
              "      <td>Y</td>\n",
              "      <td>Y</td>\n",
              "      <td>1</td>\n",
              "      <td>D</td>\n",
              "      <td>D</td>\n",
              "      <td>B</td>\n",
              "      <td>0</td>\n",
              "      <td>1</td>\n",
              "      <td>...</td>\n",
              "      <td>-9.378025</td>\n",
              "      <td>1.485863</td>\n",
              "      <td>7.265876</td>\n",
              "      <td>4.559419</td>\n",
              "      <td>1.537645</td>\n",
              "      <td>0</td>\n",
              "      <td>0</td>\n",
              "      <td>0.154409</td>\n",
              "      <td>4</td>\n",
              "      <td>0</td>\n",
              "    </tr>\n",
              "    <tr>\n",
              "      <th>4</th>\n",
              "      <td>b'gAAAAABinOiXdoaNUzihOSbyY1tjWtd5EgMaXkkvH6SV...</td>\n",
              "      <td>M</td>\n",
              "      <td>N</td>\n",
              "      <td>Y</td>\n",
              "      <td>1</td>\n",
              "      <td>B</td>\n",
              "      <td>D</td>\n",
              "      <td>D</td>\n",
              "      <td>1</td>\n",
              "      <td>l</td>\n",
              "      <td>...</td>\n",
              "      <td>-9.261962</td>\n",
              "      <td>1.619210</td>\n",
              "      <td>3.737647</td>\n",
              "      <td>4.052003</td>\n",
              "      <td>1.637831</td>\n",
              "      <td>0</td>\n",
              "      <td>1</td>\n",
              "      <td>0.737560</td>\n",
              "      <td>1</td>\n",
              "      <td>0</td>\n",
              "    </tr>\n",
              "  </tbody>\n",
              "</table>\n",
              "<p>5 rows × 36 columns</p>\n",
              "</div>\n",
              "      <button class=\"colab-df-convert\" onclick=\"convertToInteractive('df-7fac3d41-350a-4061-b18e-364c509065cb')\"\n",
              "              title=\"Convert this dataframe to an interactive table.\"\n",
              "              style=\"display:none;\">\n",
              "        \n",
              "  <svg xmlns=\"http://www.w3.org/2000/svg\" height=\"24px\"viewBox=\"0 0 24 24\"\n",
              "       width=\"24px\">\n",
              "    <path d=\"M0 0h24v24H0V0z\" fill=\"none\"/>\n",
              "    <path d=\"M18.56 5.44l.94 2.06.94-2.06 2.06-.94-2.06-.94-.94-2.06-.94 2.06-2.06.94zm-11 1L8.5 8.5l.94-2.06 2.06-.94-2.06-.94L8.5 2.5l-.94 2.06-2.06.94zm10 10l.94 2.06.94-2.06 2.06-.94-2.06-.94-.94-2.06-.94 2.06-2.06.94z\"/><path d=\"M17.41 7.96l-1.37-1.37c-.4-.4-.92-.59-1.43-.59-.52 0-1.04.2-1.43.59L10.3 9.45l-7.72 7.72c-.78.78-.78 2.05 0 2.83L4 21.41c.39.39.9.59 1.41.59.51 0 1.02-.2 1.41-.59l7.78-7.78 2.81-2.81c.8-.78.8-2.07 0-2.86zM5.41 20L4 18.59l7.72-7.72 1.47 1.35L5.41 20z\"/>\n",
              "  </svg>\n",
              "      </button>\n",
              "      \n",
              "  <style>\n",
              "    .colab-df-container {\n",
              "      display:flex;\n",
              "      flex-wrap:wrap;\n",
              "      gap: 12px;\n",
              "    }\n",
              "\n",
              "    .colab-df-convert {\n",
              "      background-color: #E8F0FE;\n",
              "      border: none;\n",
              "      border-radius: 50%;\n",
              "      cursor: pointer;\n",
              "      display: none;\n",
              "      fill: #1967D2;\n",
              "      height: 32px;\n",
              "      padding: 0 0 0 0;\n",
              "      width: 32px;\n",
              "    }\n",
              "\n",
              "    .colab-df-convert:hover {\n",
              "      background-color: #E2EBFA;\n",
              "      box-shadow: 0px 1px 2px rgba(60, 64, 67, 0.3), 0px 1px 3px 1px rgba(60, 64, 67, 0.15);\n",
              "      fill: #174EA6;\n",
              "    }\n",
              "\n",
              "    [theme=dark] .colab-df-convert {\n",
              "      background-color: #3B4455;\n",
              "      fill: #D2E3FC;\n",
              "    }\n",
              "\n",
              "    [theme=dark] .colab-df-convert:hover {\n",
              "      background-color: #434B5C;\n",
              "      box-shadow: 0px 1px 3px 1px rgba(0, 0, 0, 0.15);\n",
              "      filter: drop-shadow(0px 1px 2px rgba(0, 0, 0, 0.3));\n",
              "      fill: #FFFFFF;\n",
              "    }\n",
              "  </style>\n",
              "\n",
              "      <script>\n",
              "        const buttonEl =\n",
              "          document.querySelector('#df-7fac3d41-350a-4061-b18e-364c509065cb button.colab-df-convert');\n",
              "        buttonEl.style.display =\n",
              "          google.colab.kernel.accessAllowed ? 'block' : 'none';\n",
              "\n",
              "        async function convertToInteractive(key) {\n",
              "          const element = document.querySelector('#df-7fac3d41-350a-4061-b18e-364c509065cb');\n",
              "          const dataTable =\n",
              "            await google.colab.kernel.invokeFunction('convertToInteractive',\n",
              "                                                     [key], {});\n",
              "          if (!dataTable) return;\n",
              "\n",
              "          const docLinkHtml = 'Like what you see? Visit the ' +\n",
              "            '<a target=\"_blank\" href=https://colab.research.google.com/notebooks/data_table.ipynb>data table notebook</a>'\n",
              "            + ' to learn more about interactive tables.';\n",
              "          element.innerHTML = '';\n",
              "          dataTable['output_type'] = 'display_data';\n",
              "          await google.colab.output.renderOutput(dataTable, element);\n",
              "          const docLink = document.createElement('div');\n",
              "          docLink.innerHTML = docLinkHtml;\n",
              "          element.appendChild(docLink);\n",
              "        }\n",
              "      </script>\n",
              "    </div>\n",
              "  </div>\n",
              "  "
            ]
          },
          "metadata": {},
          "execution_count": 16
        }
      ]
    },
    {
      "cell_type": "code",
      "source": [
        "train.describe()"
      ],
      "metadata": {
        "execution": {
          "iopub.status.busy": "2022-06-09T18:25:51.758088Z",
          "iopub.execute_input": "2022-06-09T18:25:51.758817Z",
          "iopub.status.idle": "2022-06-09T18:25:51.882515Z",
          "shell.execute_reply.started": "2022-06-09T18:25:51.758772Z",
          "shell.execute_reply": "2022-06-09T18:25:51.881312Z"
        },
        "trusted": true,
        "id": "zksz_0Lvuh_2",
        "colab": {
          "base_uri": "https://localhost:8080/",
          "height": 394
        },
        "outputId": "c50c1df9-6969-49b3-a1bf-8e4d27da246a"
      },
      "execution_count": null,
      "outputs": [
        {
          "output_type": "execute_result",
          "data": {
            "text/plain": [
              "                s13           s48  s56  s57  s59            n1            n2  \\\n",
              "count  28322.000000  28322.000000  0.0  0.0  0.0  28322.000000  28322.000000   \n",
              "mean       0.983123      0.433338  NaN  NaN  NaN     10.201863      1.600111   \n",
              "std        0.128814      0.495545  NaN  NaN  NaN      4.414660      0.664985   \n",
              "min        0.000000      0.000000  NaN  NaN  NaN      2.200736      0.311727   \n",
              "25%        1.000000      0.000000  NaN  NaN  NaN      6.592127      1.013540   \n",
              "50%        1.000000      0.000000  NaN  NaN  NaN      9.535961      1.462197   \n",
              "75%        1.000000      1.000000  NaN  NaN  NaN     14.432580      2.194510   \n",
              "max        1.000000      1.000000  NaN  NaN  NaN     20.882733      3.137331   \n",
              "\n",
              "                 n3            n4            n5  ...            n7  \\\n",
              "count  28322.000000  28322.000000  28322.000000  ...  28322.000000   \n",
              "mean       4.805099      5.080537    -32.641183  ...     -9.107429   \n",
              "std        2.199282      2.276162      0.241453  ...      0.205200   \n",
              "min        0.000000      1.700370    -33.167589  ...     -9.517986   \n",
              "25%        3.000000      2.833161    -32.862207  ...     -9.258473   \n",
              "50%        5.000000      4.840320    -32.577026  ...     -9.174557   \n",
              "75%        6.000000      7.300738    -32.396733  ...     -8.964786   \n",
              "max        9.000000      8.594620    -32.289180  ...     -8.586583   \n",
              "\n",
              "                 n8            n9           n10           n11           n12  \\\n",
              "count  28322.000000  28322.000000  28322.000000  28322.000000  28322.000000   \n",
              "mean       1.612428      5.232644      6.115109      1.699553      0.009992   \n",
              "std        0.173560      2.179705      2.474138      0.115150      0.099462   \n",
              "min        1.178469      2.508858      1.173465      1.500006      0.000000   \n",
              "25%        1.489924      3.464229      4.414671      1.600056      0.000000   \n",
              "50%        1.537263      4.461770      5.317154      1.698556      0.000000   \n",
              "75%        1.730249      6.524341      7.027610      1.799238      0.000000   \n",
              "max        2.173593     11.214870     12.029135      1.899995      1.000000   \n",
              "\n",
              "                n13           n14           n15         label  \n",
              "count  28322.000000  28322.000000  28322.000000  28322.000000  \n",
              "mean       0.089506      0.497570      2.997740      0.168067  \n",
              "std        0.285478      0.289207      2.007611      0.373933  \n",
              "min        0.000000      0.000101      0.000000      0.000000  \n",
              "25%        0.000000      0.247801      1.000000      0.000000  \n",
              "50%        0.000000      0.495255      3.000000      0.000000  \n",
              "75%        0.000000      0.748786      5.000000      0.000000  \n",
              "max        1.000000      0.999990      6.000000      1.000000  \n",
              "\n",
              "[8 rows x 21 columns]"
            ],
            "text/html": [
              "\n",
              "  <div id=\"df-15fa06f8-7b74-4c55-bced-35b4e556a04b\">\n",
              "    <div class=\"colab-df-container\">\n",
              "      <div>\n",
              "<style scoped>\n",
              "    .dataframe tbody tr th:only-of-type {\n",
              "        vertical-align: middle;\n",
              "    }\n",
              "\n",
              "    .dataframe tbody tr th {\n",
              "        vertical-align: top;\n",
              "    }\n",
              "\n",
              "    .dataframe thead th {\n",
              "        text-align: right;\n",
              "    }\n",
              "</style>\n",
              "<table border=\"1\" class=\"dataframe\">\n",
              "  <thead>\n",
              "    <tr style=\"text-align: right;\">\n",
              "      <th></th>\n",
              "      <th>s13</th>\n",
              "      <th>s48</th>\n",
              "      <th>s56</th>\n",
              "      <th>s57</th>\n",
              "      <th>s59</th>\n",
              "      <th>n1</th>\n",
              "      <th>n2</th>\n",
              "      <th>n3</th>\n",
              "      <th>n4</th>\n",
              "      <th>n5</th>\n",
              "      <th>...</th>\n",
              "      <th>n7</th>\n",
              "      <th>n8</th>\n",
              "      <th>n9</th>\n",
              "      <th>n10</th>\n",
              "      <th>n11</th>\n",
              "      <th>n12</th>\n",
              "      <th>n13</th>\n",
              "      <th>n14</th>\n",
              "      <th>n15</th>\n",
              "      <th>label</th>\n",
              "    </tr>\n",
              "  </thead>\n",
              "  <tbody>\n",
              "    <tr>\n",
              "      <th>count</th>\n",
              "      <td>28322.000000</td>\n",
              "      <td>28322.000000</td>\n",
              "      <td>0.0</td>\n",
              "      <td>0.0</td>\n",
              "      <td>0.0</td>\n",
              "      <td>28322.000000</td>\n",
              "      <td>28322.000000</td>\n",
              "      <td>28322.000000</td>\n",
              "      <td>28322.000000</td>\n",
              "      <td>28322.000000</td>\n",
              "      <td>...</td>\n",
              "      <td>28322.000000</td>\n",
              "      <td>28322.000000</td>\n",
              "      <td>28322.000000</td>\n",
              "      <td>28322.000000</td>\n",
              "      <td>28322.000000</td>\n",
              "      <td>28322.000000</td>\n",
              "      <td>28322.000000</td>\n",
              "      <td>28322.000000</td>\n",
              "      <td>28322.000000</td>\n",
              "      <td>28322.000000</td>\n",
              "    </tr>\n",
              "    <tr>\n",
              "      <th>mean</th>\n",
              "      <td>0.983123</td>\n",
              "      <td>0.433338</td>\n",
              "      <td>NaN</td>\n",
              "      <td>NaN</td>\n",
              "      <td>NaN</td>\n",
              "      <td>10.201863</td>\n",
              "      <td>1.600111</td>\n",
              "      <td>4.805099</td>\n",
              "      <td>5.080537</td>\n",
              "      <td>-32.641183</td>\n",
              "      <td>...</td>\n",
              "      <td>-9.107429</td>\n",
              "      <td>1.612428</td>\n",
              "      <td>5.232644</td>\n",
              "      <td>6.115109</td>\n",
              "      <td>1.699553</td>\n",
              "      <td>0.009992</td>\n",
              "      <td>0.089506</td>\n",
              "      <td>0.497570</td>\n",
              "      <td>2.997740</td>\n",
              "      <td>0.168067</td>\n",
              "    </tr>\n",
              "    <tr>\n",
              "      <th>std</th>\n",
              "      <td>0.128814</td>\n",
              "      <td>0.495545</td>\n",
              "      <td>NaN</td>\n",
              "      <td>NaN</td>\n",
              "      <td>NaN</td>\n",
              "      <td>4.414660</td>\n",
              "      <td>0.664985</td>\n",
              "      <td>2.199282</td>\n",
              "      <td>2.276162</td>\n",
              "      <td>0.241453</td>\n",
              "      <td>...</td>\n",
              "      <td>0.205200</td>\n",
              "      <td>0.173560</td>\n",
              "      <td>2.179705</td>\n",
              "      <td>2.474138</td>\n",
              "      <td>0.115150</td>\n",
              "      <td>0.099462</td>\n",
              "      <td>0.285478</td>\n",
              "      <td>0.289207</td>\n",
              "      <td>2.007611</td>\n",
              "      <td>0.373933</td>\n",
              "    </tr>\n",
              "    <tr>\n",
              "      <th>min</th>\n",
              "      <td>0.000000</td>\n",
              "      <td>0.000000</td>\n",
              "      <td>NaN</td>\n",
              "      <td>NaN</td>\n",
              "      <td>NaN</td>\n",
              "      <td>2.200736</td>\n",
              "      <td>0.311727</td>\n",
              "      <td>0.000000</td>\n",
              "      <td>1.700370</td>\n",
              "      <td>-33.167589</td>\n",
              "      <td>...</td>\n",
              "      <td>-9.517986</td>\n",
              "      <td>1.178469</td>\n",
              "      <td>2.508858</td>\n",
              "      <td>1.173465</td>\n",
              "      <td>1.500006</td>\n",
              "      <td>0.000000</td>\n",
              "      <td>0.000000</td>\n",
              "      <td>0.000101</td>\n",
              "      <td>0.000000</td>\n",
              "      <td>0.000000</td>\n",
              "    </tr>\n",
              "    <tr>\n",
              "      <th>25%</th>\n",
              "      <td>1.000000</td>\n",
              "      <td>0.000000</td>\n",
              "      <td>NaN</td>\n",
              "      <td>NaN</td>\n",
              "      <td>NaN</td>\n",
              "      <td>6.592127</td>\n",
              "      <td>1.013540</td>\n",
              "      <td>3.000000</td>\n",
              "      <td>2.833161</td>\n",
              "      <td>-32.862207</td>\n",
              "      <td>...</td>\n",
              "      <td>-9.258473</td>\n",
              "      <td>1.489924</td>\n",
              "      <td>3.464229</td>\n",
              "      <td>4.414671</td>\n",
              "      <td>1.600056</td>\n",
              "      <td>0.000000</td>\n",
              "      <td>0.000000</td>\n",
              "      <td>0.247801</td>\n",
              "      <td>1.000000</td>\n",
              "      <td>0.000000</td>\n",
              "    </tr>\n",
              "    <tr>\n",
              "      <th>50%</th>\n",
              "      <td>1.000000</td>\n",
              "      <td>0.000000</td>\n",
              "      <td>NaN</td>\n",
              "      <td>NaN</td>\n",
              "      <td>NaN</td>\n",
              "      <td>9.535961</td>\n",
              "      <td>1.462197</td>\n",
              "      <td>5.000000</td>\n",
              "      <td>4.840320</td>\n",
              "      <td>-32.577026</td>\n",
              "      <td>...</td>\n",
              "      <td>-9.174557</td>\n",
              "      <td>1.537263</td>\n",
              "      <td>4.461770</td>\n",
              "      <td>5.317154</td>\n",
              "      <td>1.698556</td>\n",
              "      <td>0.000000</td>\n",
              "      <td>0.000000</td>\n",
              "      <td>0.495255</td>\n",
              "      <td>3.000000</td>\n",
              "      <td>0.000000</td>\n",
              "    </tr>\n",
              "    <tr>\n",
              "      <th>75%</th>\n",
              "      <td>1.000000</td>\n",
              "      <td>1.000000</td>\n",
              "      <td>NaN</td>\n",
              "      <td>NaN</td>\n",
              "      <td>NaN</td>\n",
              "      <td>14.432580</td>\n",
              "      <td>2.194510</td>\n",
              "      <td>6.000000</td>\n",
              "      <td>7.300738</td>\n",
              "      <td>-32.396733</td>\n",
              "      <td>...</td>\n",
              "      <td>-8.964786</td>\n",
              "      <td>1.730249</td>\n",
              "      <td>6.524341</td>\n",
              "      <td>7.027610</td>\n",
              "      <td>1.799238</td>\n",
              "      <td>0.000000</td>\n",
              "      <td>0.000000</td>\n",
              "      <td>0.748786</td>\n",
              "      <td>5.000000</td>\n",
              "      <td>0.000000</td>\n",
              "    </tr>\n",
              "    <tr>\n",
              "      <th>max</th>\n",
              "      <td>1.000000</td>\n",
              "      <td>1.000000</td>\n",
              "      <td>NaN</td>\n",
              "      <td>NaN</td>\n",
              "      <td>NaN</td>\n",
              "      <td>20.882733</td>\n",
              "      <td>3.137331</td>\n",
              "      <td>9.000000</td>\n",
              "      <td>8.594620</td>\n",
              "      <td>-32.289180</td>\n",
              "      <td>...</td>\n",
              "      <td>-8.586583</td>\n",
              "      <td>2.173593</td>\n",
              "      <td>11.214870</td>\n",
              "      <td>12.029135</td>\n",
              "      <td>1.899995</td>\n",
              "      <td>1.000000</td>\n",
              "      <td>1.000000</td>\n",
              "      <td>0.999990</td>\n",
              "      <td>6.000000</td>\n",
              "      <td>1.000000</td>\n",
              "    </tr>\n",
              "  </tbody>\n",
              "</table>\n",
              "<p>8 rows × 21 columns</p>\n",
              "</div>\n",
              "      <button class=\"colab-df-convert\" onclick=\"convertToInteractive('df-15fa06f8-7b74-4c55-bced-35b4e556a04b')\"\n",
              "              title=\"Convert this dataframe to an interactive table.\"\n",
              "              style=\"display:none;\">\n",
              "        \n",
              "  <svg xmlns=\"http://www.w3.org/2000/svg\" height=\"24px\"viewBox=\"0 0 24 24\"\n",
              "       width=\"24px\">\n",
              "    <path d=\"M0 0h24v24H0V0z\" fill=\"none\"/>\n",
              "    <path d=\"M18.56 5.44l.94 2.06.94-2.06 2.06-.94-2.06-.94-.94-2.06-.94 2.06-2.06.94zm-11 1L8.5 8.5l.94-2.06 2.06-.94-2.06-.94L8.5 2.5l-.94 2.06-2.06.94zm10 10l.94 2.06.94-2.06 2.06-.94-2.06-.94-.94-2.06-.94 2.06-2.06.94z\"/><path d=\"M17.41 7.96l-1.37-1.37c-.4-.4-.92-.59-1.43-.59-.52 0-1.04.2-1.43.59L10.3 9.45l-7.72 7.72c-.78.78-.78 2.05 0 2.83L4 21.41c.39.39.9.59 1.41.59.51 0 1.02-.2 1.41-.59l7.78-7.78 2.81-2.81c.8-.78.8-2.07 0-2.86zM5.41 20L4 18.59l7.72-7.72 1.47 1.35L5.41 20z\"/>\n",
              "  </svg>\n",
              "      </button>\n",
              "      \n",
              "  <style>\n",
              "    .colab-df-container {\n",
              "      display:flex;\n",
              "      flex-wrap:wrap;\n",
              "      gap: 12px;\n",
              "    }\n",
              "\n",
              "    .colab-df-convert {\n",
              "      background-color: #E8F0FE;\n",
              "      border: none;\n",
              "      border-radius: 50%;\n",
              "      cursor: pointer;\n",
              "      display: none;\n",
              "      fill: #1967D2;\n",
              "      height: 32px;\n",
              "      padding: 0 0 0 0;\n",
              "      width: 32px;\n",
              "    }\n",
              "\n",
              "    .colab-df-convert:hover {\n",
              "      background-color: #E2EBFA;\n",
              "      box-shadow: 0px 1px 2px rgba(60, 64, 67, 0.3), 0px 1px 3px 1px rgba(60, 64, 67, 0.15);\n",
              "      fill: #174EA6;\n",
              "    }\n",
              "\n",
              "    [theme=dark] .colab-df-convert {\n",
              "      background-color: #3B4455;\n",
              "      fill: #D2E3FC;\n",
              "    }\n",
              "\n",
              "    [theme=dark] .colab-df-convert:hover {\n",
              "      background-color: #434B5C;\n",
              "      box-shadow: 0px 1px 3px 1px rgba(0, 0, 0, 0.15);\n",
              "      filter: drop-shadow(0px 1px 2px rgba(0, 0, 0, 0.3));\n",
              "      fill: #FFFFFF;\n",
              "    }\n",
              "  </style>\n",
              "\n",
              "      <script>\n",
              "        const buttonEl =\n",
              "          document.querySelector('#df-15fa06f8-7b74-4c55-bced-35b4e556a04b button.colab-df-convert');\n",
              "        buttonEl.style.display =\n",
              "          google.colab.kernel.accessAllowed ? 'block' : 'none';\n",
              "\n",
              "        async function convertToInteractive(key) {\n",
              "          const element = document.querySelector('#df-15fa06f8-7b74-4c55-bced-35b4e556a04b');\n",
              "          const dataTable =\n",
              "            await google.colab.kernel.invokeFunction('convertToInteractive',\n",
              "                                                     [key], {});\n",
              "          if (!dataTable) return;\n",
              "\n",
              "          const docLinkHtml = 'Like what you see? Visit the ' +\n",
              "            '<a target=\"_blank\" href=https://colab.research.google.com/notebooks/data_table.ipynb>data table notebook</a>'\n",
              "            + ' to learn more about interactive tables.';\n",
              "          element.innerHTML = '';\n",
              "          dataTable['output_type'] = 'display_data';\n",
              "          await google.colab.output.renderOutput(dataTable, element);\n",
              "          const docLink = document.createElement('div');\n",
              "          docLink.innerHTML = docLinkHtml;\n",
              "          element.appendChild(docLink);\n",
              "        }\n",
              "      </script>\n",
              "    </div>\n",
              "  </div>\n",
              "  "
            ]
          },
          "metadata": {},
          "execution_count": 17
        }
      ]
    },
    {
      "cell_type": "code",
      "source": [
        "train.isnull().mean()"
      ],
      "metadata": {
        "execution": {
          "iopub.status.busy": "2022-06-09T18:25:51.884551Z",
          "iopub.execute_input": "2022-06-09T18:25:51.885016Z",
          "iopub.status.idle": "2022-06-09T18:25:51.936493Z",
          "shell.execute_reply.started": "2022-06-09T18:25:51.884974Z",
          "shell.execute_reply": "2022-06-09T18:25:51.935056Z"
        },
        "trusted": true,
        "id": "5ULS3lVIuh_3",
        "colab": {
          "base_uri": "https://localhost:8080/"
        },
        "outputId": "7b98792c-de0c-4292-811e-b0e847a7d8bd"
      },
      "execution_count": null,
      "outputs": [
        {
          "output_type": "execute_result",
          "data": {
            "text/plain": [
              "id        0.000000\n",
              "gender    0.000000\n",
              "s11       0.000000\n",
              "s12       0.000000\n",
              "s13       0.000000\n",
              "s16       0.000000\n",
              "s17       0.000000\n",
              "s18       0.000000\n",
              "s48       0.000000\n",
              "s52       0.000000\n",
              "s53       0.000000\n",
              "s54       0.907210\n",
              "s55       0.886802\n",
              "s56       1.000000\n",
              "s57       1.000000\n",
              "s58       0.000000\n",
              "s59       1.000000\n",
              "s69       0.000000\n",
              "s70       0.000000\n",
              "s71       0.000000\n",
              "n1        0.000000\n",
              "n2        0.000000\n",
              "n3        0.000000\n",
              "n4        0.000000\n",
              "n5        0.000000\n",
              "n6        0.000000\n",
              "n7        0.000000\n",
              "n8        0.000000\n",
              "n9        0.000000\n",
              "n10       0.000000\n",
              "n11       0.000000\n",
              "n12       0.000000\n",
              "n13       0.000000\n",
              "n14       0.000000\n",
              "n15       0.000000\n",
              "label     0.000000\n",
              "dtype: float64"
            ]
          },
          "metadata": {},
          "execution_count": 18
        }
      ]
    },
    {
      "cell_type": "code",
      "source": [
        "test.isnull().mean()"
      ],
      "metadata": {
        "execution": {
          "iopub.status.busy": "2022-06-09T18:25:51.938666Z",
          "iopub.execute_input": "2022-06-09T18:25:51.939122Z",
          "iopub.status.idle": "2022-06-09T18:25:52.081470Z",
          "shell.execute_reply.started": "2022-06-09T18:25:51.939077Z",
          "shell.execute_reply": "2022-06-09T18:25:52.080445Z"
        },
        "trusted": true,
        "id": "vUbl46Bxuh_4",
        "colab": {
          "base_uri": "https://localhost:8080/"
        },
        "outputId": "6fba619f-1143-41c6-b9c4-71c5dacc3d21"
      },
      "execution_count": null,
      "outputs": [
        {
          "output_type": "execute_result",
          "data": {
            "text/plain": [
              "id        0.000000\n",
              "gender    0.000000\n",
              "s11       0.000000\n",
              "s12       0.000000\n",
              "s13       0.000000\n",
              "s16       0.000000\n",
              "s17       0.000000\n",
              "s18       0.000000\n",
              "s48       0.000000\n",
              "s52       0.000000\n",
              "s53       0.000000\n",
              "s54       0.908975\n",
              "s55       0.889249\n",
              "s56       1.000000\n",
              "s57       1.000000\n",
              "s58       0.000000\n",
              "s59       1.000000\n",
              "s69       0.000000\n",
              "s70       0.000000\n",
              "s71       0.000000\n",
              "n1        0.000000\n",
              "n2        0.000000\n",
              "n3        0.000000\n",
              "n4        0.000000\n",
              "n5        0.000000\n",
              "n6        0.000000\n",
              "n7        0.000000\n",
              "n8        0.000000\n",
              "n9        0.000000\n",
              "n10       0.000000\n",
              "n11       0.000000\n",
              "n12       0.000000\n",
              "n13       0.000000\n",
              "n14       0.000000\n",
              "n15       0.000000\n",
              "dtype: float64"
            ]
          },
          "metadata": {},
          "execution_count": 19
        }
      ]
    },
    {
      "cell_type": "markdown",
      "source": [
        "# cleaning data"
      ],
      "metadata": {
        "id": "iVVbpyk0uh_5"
      }
    },
    {
      "cell_type": "code",
      "source": [
        "#deleting cols containing null values\n",
        "\n",
        "def clean_data(data):\n",
        "    data.drop(['s54','s55', 's56', 's57','s59'], axis = 1, inplace = True)"
      ],
      "metadata": {
        "execution": {
          "iopub.status.busy": "2022-06-09T18:25:52.086967Z",
          "iopub.execute_input": "2022-06-09T18:25:52.087454Z",
          "iopub.status.idle": "2022-06-09T18:25:52.094123Z",
          "shell.execute_reply.started": "2022-06-09T18:25:52.087415Z",
          "shell.execute_reply": "2022-06-09T18:25:52.092634Z"
        },
        "trusted": true,
        "id": "sFO1of0Juh_8"
      },
      "execution_count": null,
      "outputs": []
    },
    {
      "cell_type": "code",
      "source": [
        "clean_data(train)\n",
        "clean_data(test)"
      ],
      "metadata": {
        "execution": {
          "iopub.status.busy": "2022-06-09T18:25:52.096005Z",
          "iopub.execute_input": "2022-06-09T18:25:52.096852Z",
          "iopub.status.idle": "2022-06-09T18:25:52.144136Z",
          "shell.execute_reply.started": "2022-06-09T18:25:52.096812Z",
          "shell.execute_reply": "2022-06-09T18:25:52.143064Z"
        },
        "trusted": true,
        "id": "DShhBWPcuh__"
      },
      "execution_count": null,
      "outputs": []
    },
    {
      "cell_type": "code",
      "source": [
        "sum(train.isnull().sum())"
      ],
      "metadata": {
        "execution": {
          "iopub.status.busy": "2022-06-09T18:25:52.145515Z",
          "iopub.execute_input": "2022-06-09T18:25:52.146410Z",
          "iopub.status.idle": "2022-06-09T18:25:52.190559Z",
          "shell.execute_reply.started": "2022-06-09T18:25:52.146367Z",
          "shell.execute_reply": "2022-06-09T18:25:52.189402Z"
        },
        "trusted": true,
        "id": "u2i7Nr-ruiAB",
        "colab": {
          "base_uri": "https://localhost:8080/"
        },
        "outputId": "f2b1fb48-c147-4c70-94db-90791c011ddc"
      },
      "execution_count": null,
      "outputs": [
        {
          "output_type": "execute_result",
          "data": {
            "text/plain": [
              "0"
            ]
          },
          "metadata": {},
          "execution_count": 10
        }
      ]
    },
    {
      "cell_type": "code",
      "source": [
        "sum(test.isnull().sum())"
      ],
      "metadata": {
        "execution": {
          "iopub.status.busy": "2022-06-09T18:25:52.194070Z",
          "iopub.execute_input": "2022-06-09T18:25:52.194867Z",
          "iopub.status.idle": "2022-06-09T18:25:52.307286Z",
          "shell.execute_reply.started": "2022-06-09T18:25:52.194819Z",
          "shell.execute_reply": "2022-06-09T18:25:52.306275Z"
        },
        "trusted": true,
        "id": "Lzh_yN_VuiAC",
        "colab": {
          "base_uri": "https://localhost:8080/"
        },
        "outputId": "a51e654a-065f-44df-a3a6-ee459238915b"
      },
      "execution_count": null,
      "outputs": [
        {
          "output_type": "execute_result",
          "data": {
            "text/plain": [
              "0"
            ]
          },
          "metadata": {},
          "execution_count": 11
        }
      ]
    },
    {
      "cell_type": "markdown",
      "source": [
        "# Model Building"
      ],
      "metadata": {
        "id": "eF89kevkuiAC"
      }
    },
    {
      "cell_type": "code",
      "source": [
        "X = train.drop('label', axis = 1)\n",
        "y = train['label']"
      ],
      "metadata": {
        "execution": {
          "iopub.status.busy": "2022-06-09T18:25:52.308959Z",
          "iopub.execute_input": "2022-06-09T18:25:52.309446Z",
          "iopub.status.idle": "2022-06-09T18:25:52.320629Z",
          "shell.execute_reply.started": "2022-06-09T18:25:52.309403Z",
          "shell.execute_reply": "2022-06-09T18:25:52.319272Z"
        },
        "trusted": true,
        "id": "_CnBxllQuiAD"
      },
      "execution_count": null,
      "outputs": []
    },
    {
      "cell_type": "markdown",
      "source": [
        "# ecoding data numerical"
      ],
      "metadata": {
        "id": "BazS5TdiuiAE"
      }
    },
    {
      "cell_type": "code",
      "source": [
        "X_train, X_test, y_train, y_test = train_test_split(X, y, test_size=0.2, random_state=42)"
      ],
      "metadata": {
        "execution": {
          "iopub.status.busy": "2022-06-09T18:25:52.323059Z",
          "iopub.execute_input": "2022-06-09T18:25:52.324028Z",
          "iopub.status.idle": "2022-06-09T18:25:52.346530Z",
          "shell.execute_reply.started": "2022-06-09T18:25:52.323980Z",
          "shell.execute_reply": "2022-06-09T18:25:52.345543Z"
        },
        "trusted": true,
        "id": "Lp0_9TpauiAF"
      },
      "execution_count": null,
      "outputs": []
    },
    {
      "cell_type": "code",
      "source": [
        "acc_baseline = y_train.value_counts(normalize=True).max()\n",
        "print(\"Baseline Accuracy:\", round(acc_baseline, 2))"
      ],
      "metadata": {
        "execution": {
          "iopub.status.busy": "2022-06-09T18:25:52.348265Z",
          "iopub.execute_input": "2022-06-09T18:25:52.348714Z",
          "iopub.status.idle": "2022-06-09T18:25:52.358320Z",
          "shell.execute_reply.started": "2022-06-09T18:25:52.348662Z",
          "shell.execute_reply": "2022-06-09T18:25:52.356857Z"
        },
        "trusted": true,
        "id": "H-jNwsKTuiAG",
        "colab": {
          "base_uri": "https://localhost:8080/"
        },
        "outputId": "98ea9339-4756-4dab-d1e6-c0525988e799"
      },
      "execution_count": null,
      "outputs": [
        {
          "output_type": "stream",
          "name": "stdout",
          "text": [
            "Baseline Accuracy: 0.83\n"
          ]
        }
      ]
    },
    {
      "cell_type": "code",
      "source": [
        "model = make_pipeline(OneHotEncoder(use_cat_names=True),LogisticRegression(max_iter=1000))\n",
        "# Fit model to training data\n",
        "model.fit(X_train, y_train)"
      ],
      "metadata": {
        "execution": {
          "iopub.status.busy": "2022-06-09T18:25:52.360007Z",
          "iopub.execute_input": "2022-06-09T18:25:52.361207Z"
        },
        "trusted": true,
        "id": "WgtQEtkduiAH"
      },
      "execution_count": null,
      "outputs": []
    },
    {
      "cell_type": "code",
      "source": [
        "acc_train = accuracy_score(y_train, model.predict(X_train))"
      ],
      "metadata": {
        "trusted": true,
        "id": "t9uXJ2DsuiAJ"
      },
      "execution_count": null,
      "outputs": []
    },
    {
      "cell_type": "code",
      "source": [
        "print(\"X_train shape:\", X_train.shape)\n",
        "print(\"y_train shape:\", y_train.shape)\n",
        "print(\"X_test shape:\", X_test.shape)\n",
        "print(\"y_test shape:\", y_test.shape)"
      ],
      "metadata": {
        "trusted": true,
        "id": "NrFH9lEhuiAJ"
      },
      "execution_count": null,
      "outputs": []
    }
  ],
  "metadata": {
    "colab": {
      "name": "Code_Data-Bytes_4t68pg.ipynb",
      "provenance": [],
      "collapsed_sections": [],
      "include_colab_link": true
    },
    "kernelspec": {
      "display_name": "Python 3",
      "name": "python3"
    },
    "language_info": {
      "name": "python"
    }
  },
  "nbformat": 4,
  "nbformat_minor": 0
}